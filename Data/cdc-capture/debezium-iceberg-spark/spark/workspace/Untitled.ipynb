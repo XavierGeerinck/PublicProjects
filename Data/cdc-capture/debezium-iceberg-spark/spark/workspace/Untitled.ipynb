{
 "cells": [
  {
   "cell_type": "code",
   "execution_count": 1,
   "id": "0f54f3cd-ce5e-4eca-b8c9-654d0de01df9",
   "metadata": {},
   "outputs": [
    {
     "data": {
      "text/html": [
       "<style>pre { white-space: pre !important; }</style>"
      ],
      "text/plain": [
       "<IPython.core.display.HTML object>"
      ]
     },
     "metadata": {},
     "output_type": "display_data"
    }
   ],
   "source": [
    "from pyspark.sql import SparkSession\n",
    "import pyspark.sql.functions as F\n",
    "import psycopg\n",
    "from trino.dbapi import connect\n",
    "import pandas as pd\n",
    "\n",
    "# this is to better display pyspark and pandas dataframes\n",
    "from IPython.core.display import HTML\n",
    "display(HTML(\"<style>pre { white-space: pre !important; }</style>\"))\n",
    "\n",
    "pd.set_option('display.max_colwidth', None)"
   ]
  },
  {
   "cell_type": "code",
   "execution_count": 13,
   "id": "8e02787c-e190-42a5-8bf7-e19526e773eb",
   "metadata": {},
   "outputs": [
    {
     "name": "stderr",
     "output_type": "stream",
     "text": [
      "25/04/25 14:08:02 WARN SparkSession: Using an existing Spark session; only runtime SQL configurations will take effect.\n"
     ]
    }
   ],
   "source": [
    "spark = SparkSession.builder \\\n",
    "  .appName(\"iceberg-rest\") \\\n",
    "  .config(\"spark.driver.memory\", \"4g\") \\\n",
    "  .config(\"spark.executor.memory\", \"4g\") \\\n",
    "  .config(\"spark.sql.extensions\", \"org.apache.iceberg.spark.extensions.IcebergSparkSessionExtensions\") \\\n",
    "  .config(\"spark.jars\", \"/opt/extra-jars/iceberg-spark-runtime.jar,/opt/extra-jars/iceberg-aws-bundle.jar\") \\\n",
    "  .config(f\"spark.sql.catalog.iceberg\", \"org.apache.iceberg.spark.SparkCatalog\") \\\n",
    "  .config(f\"spark.sql.catalog.iceberg.type\", \"rest\") \\\n",
    "  .config(f\"spark.sql.catalog.iceberg.uri\", \"http://iceberg-rest-catalog:8000\") \\\n",
    "  .config(f\"spark.sql.catalog.iceberg.io-impl\", \"org.apache.iceberg.aws.s3.S3FileIO\") \\\n",
    "  .config(f\"spark.sql.catalog.iceberg.warehouse\", \"s3://warehouse/iceberg/\") \\\n",
    "  .config(f\"spark.sql.catalog.iceberg.s3.endpoint\", \"http://minio:9000\") \\\n",
    "  .config(f\"spark.sql.catalog.iceberg.s3.path-style-access\", \"true\") \\\n",
    "  .getOrCreate()"
   ]
  },
  {
   "cell_type": "code",
   "execution_count": 14,
   "id": "043310cf-fbbe-4343-b19e-c07e6b5fc056",
   "metadata": {},
   "outputs": [
    {
     "name": "stdout",
     "output_type": "stream",
     "text": [
      "Spark Version:  3.5.5\n",
      "Scala Version:  version 2.13.8\n"
     ]
    }
   ],
   "source": [
    "print(\"Spark Version: \", spark.sparkContext.version)\n",
    "print(\"Scala Version: \", spark.sparkContext._jvm.scala.util.Properties.versionString())"
   ]
  },
  {
   "cell_type": "code",
   "execution_count": 19,
   "id": "77594316-391d-4d21-ad62-51baf265315b",
   "metadata": {},
   "outputs": [
    {
     "name": "stdout",
     "output_type": "stream",
     "text": [
      "+-----------+--------------------+-----------+\n",
      "|  namespace|           tableName|isTemporary|\n",
      "+-----------+--------------------+-----------+\n",
      "|icebergdata|                dbz_|      false|\n",
      "|icebergdata|dbz__main_dbo_Cus...|      false|\n",
      "|icebergdata|debezium_database...|      false|\n",
      "|icebergdata|debezium_offset_s...|      false|\n",
      "+-----------+--------------------+-----------+\n",
      "\n"
     ]
    }
   ],
   "source": [
    "spark.sql(\"SHOW TABLES IN iceberg.icebergdata\").show()"
   ]
  },
  {
   "cell_type": "code",
   "execution_count": 28,
   "id": "1ba4ef06-4aad-4500-9740-3bfa765f9464",
   "metadata": {},
   "outputs": [
    {
     "name": "stdout",
     "output_type": "stream",
     "text": [
      "+----------+-----------+--------+--------------------+--------------------+--------------------+---------+----+---------+-------------------+----+\n",
      "|CustomerID|  FirstName|LastName|               Email|         CreatedDate|         UpdatedDate|__deleted|__op|  __table|     __source_ts_ns|__db|\n",
      "+----------+-----------+--------+--------------------+--------------------+--------------------+---------+----+---------+-------------------+----+\n",
      "|        33|       Demo|Anderson|thomas.anderson@e...|2025-04-03 14:05:...|2025-04-03 14:05:...|    false|   u|Customers|1745590919697000000|main|\n",
      "|        32|Hello World|  Wilson|emma.wilson@examp...|2025-04-03 14:05:...|2025-04-03 14:05:...|    false|   u|Customers|1745590705380000000|main|\n",
      "|        12|       John|   Smith|john.smith@exampl...|2025-03-31 12:06:...|2025-03-31 12:06:...|    false|   r|Customers|1745589896781180600|main|\n",
      "|        13|       Jane|     Doe|jane.doe@example.com|2025-03-31 12:06:...|2025-03-31 12:06:...|    false|   r|Customers|1745589896781180600|main|\n",
      "|        14|        Bob| Johnson|bob.johnson@examp...|2025-03-31 12:06:...|2025-03-31 12:06:...|    false|   r|Customers|1745589896781180600|main|\n",
      "|        15|      Alice|Williams|alice.williams@ex...|2025-03-31 12:06:...|2025-03-31 12:06:...|    false|   r|Customers|1745589896781180600|main|\n",
      "|        16|    Charlie|   Brown|charlie.brown@exa...|2025-03-31 12:06:...|2025-03-31 12:06:...|    false|   r|Customers|1745589896781180600|main|\n",
      "|        17|    Michael|  Taylor|michael.taylor@ex...|2025-03-31 12:07:...|2025-03-31 12:07:...|    false|   r|Customers|1745589896781180600|main|\n",
      "|        19|      David|  Miller|david.miller@exam...|2025-03-31 12:07:...|2025-03-31 12:07:...|    false|   r|Customers|1745589896781180600|main|\n",
      "|        20|       Emma|  Wilson|emma.wilson@examp...|2025-03-31 12:07:...|2025-03-31 12:07:...|    false|   r|Customers|1745589896781180600|main|\n",
      "|        21|     Thomas|Anderson|thomas.anderson@e...|2025-03-31 12:07:...|2025-03-31 12:07:...|    false|   r|Customers|1745589896781180600|main|\n",
      "|        22|      Brave|   Sunny|brave.sunny@examp...|2025-03-31 13:16:...|2025-03-31 13:16:...|    false|   r|Customers|1745589896781180600|main|\n",
      "|        23|    Michael|  Taylor|michael.taylor@ex...|2025-04-03 13:36:...|2025-04-03 13:36:...|    false|   r|Customers|1745589896781180600|main|\n",
      "|        25|      David|  Miller|david.miller@exam...|2025-04-03 13:36:...|2025-04-03 13:36:...|    false|   r|Customers|1745589896781180600|main|\n",
      "|        26|       Emma|  Wilson|emma.wilson@examp...|2025-04-03 13:36:...|2025-04-03 13:36:...|    false|   r|Customers|1745589896781180600|main|\n",
      "|        27|     Thomas|Anderson|thomas.anderson@e...|2025-04-03 13:36:...|2025-04-03 13:36:...|    false|   r|Customers|1745589896781180600|main|\n",
      "|        28|      Brave|   Sunny|brave.sunny@examp...|2025-04-03 13:55:...|2025-04-03 13:55:...|    false|   r|Customers|1745589896781180600|main|\n",
      "|        29|    Michael|  Taylor|michael.taylor@ex...|2025-04-03 14:05:...|2025-04-03 14:05:...|    false|   r|Customers|1745589896781180600|main|\n",
      "|        30|      Sarah| Johnson|sarah.johnson@exa...|2025-04-03 14:05:...|2025-04-03 14:05:...|    false|   r|Customers|1745589896781180600|main|\n",
      "|        31|      David|  Miller|david.miller@exam...|2025-04-03 14:05:...|2025-04-03 14:05:...|    false|   r|Customers|1745589896781180600|main|\n",
      "+----------+-----------+--------+--------------------+--------------------+--------------------+---------+----+---------+-------------------+----+\n",
      "only showing top 20 rows\n",
      "\n"
     ]
    }
   ],
   "source": [
    "spark.sql(\"select * from iceberg.icebergdata.dbz__main_dbo_Customers\").show()"
   ]
  },
  {
   "cell_type": "code",
   "execution_count": null,
   "id": "35de9235-0af9-43a0-8325-d5f1f6d2a2f0",
   "metadata": {},
   "outputs": [],
   "source": [
    "# # Connect Trino\n",
    "# trino_conn = connect(\n",
    "#     host=\"trino\",\n",
    "#     port=8080,\n",
    "#     user=\"user\"\n",
    "# )\n",
    "\n",
    "# df_from_trino = pd.read_sql_query('select * from \"iceberg-jdbc\".jdbc.yellow_tripdata limit 10', conn)\n",
    "# df_from_trino"
   ]
  },
  {
   "cell_type": "code",
   "execution_count": null,
   "id": "d5d1643a-acfb-4059-83d8-6e7c45ea1d88",
   "metadata": {},
   "outputs": [],
   "source": []
  }
 ],
 "metadata": {
  "kernelspec": {
   "display_name": "Python 3 (ipykernel)",
   "language": "python",
   "name": "python3"
  },
  "language_info": {
   "codemirror_mode": {
    "name": "ipython",
    "version": 3
   },
   "file_extension": ".py",
   "mimetype": "text/x-python",
   "name": "python",
   "nbconvert_exporter": "python",
   "pygments_lexer": "ipython3",
   "version": "3.9.21"
  }
 },
 "nbformat": 4,
 "nbformat_minor": 5
}
