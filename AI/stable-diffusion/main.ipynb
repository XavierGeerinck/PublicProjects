{
  "cells": [
    {
      "cell_type": "markdown",
      "metadata": {
        "id": "qEsNHTtVlbkV"
      },
      "source": [
        "# DreamBooth - Easy Run (Xavier Geerinck - https://xaviergeerinck.com)\n",
        "\n",
        "This notebook provides an updated implementation from https://github.com/TheLastBen/fast-stable-diffusion, focusing on easiness of running and being able to run it locally. If you face any issues, feel free to publish a comment on the blog https://xaviergeerinck.com\n",
        "\n",
        "Some of the optimizations added:\n",
        "- Removed the need to download dependencies as zip and extract them, rather focus on pip install to work cross architecture\n",
        "- Removed the need for Python3.8 only (later versions have more optimizations)"
      ]
    },
    {
      "cell_type": "markdown",
      "metadata": {},
      "source": [
        "## Download and install diffusers"
      ]
    },
    {
      "cell_type": "code",
      "execution_count": 1,
      "metadata": {},
      "outputs": [
        {
          "name": "stdout",
          "output_type": "stream",
          "text": [
            "Cloning into 'diffusers'...\n",
            "remote: Enumerating objects: 15199, done.\u001b[K\n",
            "remote: Counting objects: 100% (163/163), done.\u001b[K\n",
            "remote: Compressing objects: 100% (69/69), done.\u001b[K\n",
            "remote: Total 15199 (delta 110), reused 116 (delta 78), pack-reused 15036\u001b[K\n",
            "Receiving objects: 100% (15199/15199), 10.28 MiB | 9.34 MiB/s, done.\n",
            "Resolving deltas: 100% (10482/10482), done.\n",
            "/Users/xaviergeerinck/Projects/PublicProjects/AI/stable-diffusion/diffusers\n",
            "Obtaining file:///Users/xaviergeerinck/Projects/PublicProjects/AI/stable-diffusion/diffusers\n",
            "  Installing build dependencies ... \u001b[?25ldone\n",
            "\u001b[?25h  Checking if build backend supports build_editable ... \u001b[?25ldone\n",
            "\u001b[?25h  Getting requirements to build editable ... \u001b[?25ldone\n",
            "\u001b[?25h  Preparing editable metadata (pyproject.toml) ... \u001b[?25ldone\n",
            "\u001b[?25hRequirement already satisfied: regex!=2019.12.17 in /Users/xaviergeerinck/.pyenv/versions/3.10.5/lib/python3.10/site-packages (from diffusers==0.10.2) (2022.10.31)\n",
            "Requirement already satisfied: filelock in /Users/xaviergeerinck/.pyenv/versions/3.10.5/lib/python3.10/site-packages (from diffusers==0.10.2) (3.8.0)\n",
            "Requirement already satisfied: requests in /Users/xaviergeerinck/.pyenv/versions/3.10.5/lib/python3.10/site-packages (from diffusers==0.10.2) (2.28.1)\n",
            "Requirement already satisfied: huggingface-hub>=0.10.0 in /Users/xaviergeerinck/.pyenv/versions/3.10.5/lib/python3.10/site-packages (from diffusers==0.10.2) (0.11.1)\n",
            "Requirement already satisfied: Pillow in /Users/xaviergeerinck/.pyenv/versions/3.10.5/lib/python3.10/site-packages (from diffusers==0.10.2) (9.2.0)\n",
            "Requirement already satisfied: numpy in /Users/xaviergeerinck/.pyenv/versions/3.10.5/lib/python3.10/site-packages (from diffusers==0.10.2) (1.22.4)\n",
            "Requirement already satisfied: importlib-metadata in /Users/xaviergeerinck/.pyenv/versions/3.10.5/lib/python3.10/site-packages (from diffusers==0.10.2) (5.0.0)\n",
            "Requirement already satisfied: typing-extensions>=3.7.4.3 in /Users/xaviergeerinck/.pyenv/versions/3.10.5/lib/python3.10/site-packages (from huggingface-hub>=0.10.0->diffusers==0.10.2) (4.3.0)\n",
            "Requirement already satisfied: pyyaml>=5.1 in /Users/xaviergeerinck/.pyenv/versions/3.10.5/lib/python3.10/site-packages (from huggingface-hub>=0.10.0->diffusers==0.10.2) (6.0)\n",
            "Requirement already satisfied: tqdm in /Users/xaviergeerinck/.pyenv/versions/3.10.5/lib/python3.10/site-packages (from huggingface-hub>=0.10.0->diffusers==0.10.2) (4.64.0)\n",
            "Requirement already satisfied: packaging>=20.9 in /Users/xaviergeerinck/.pyenv/versions/3.10.5/lib/python3.10/site-packages (from huggingface-hub>=0.10.0->diffusers==0.10.2) (21.3)\n",
            "Requirement already satisfied: zipp>=0.5 in /Users/xaviergeerinck/.pyenv/versions/3.10.5/lib/python3.10/site-packages (from importlib-metadata->diffusers==0.10.2) (3.10.0)\n",
            "Requirement already satisfied: certifi>=2017.4.17 in /Users/xaviergeerinck/.pyenv/versions/3.10.5/lib/python3.10/site-packages (from requests->diffusers==0.10.2) (2022.6.15)\n",
            "Requirement already satisfied: charset-normalizer<3,>=2 in /Users/xaviergeerinck/.pyenv/versions/3.10.5/lib/python3.10/site-packages (from requests->diffusers==0.10.2) (2.1.1)\n",
            "Requirement already satisfied: urllib3<1.27,>=1.21.1 in /Users/xaviergeerinck/.pyenv/versions/3.10.5/lib/python3.10/site-packages (from requests->diffusers==0.10.2) (1.26.10)\n",
            "Requirement already satisfied: idna<4,>=2.5 in /Users/xaviergeerinck/.pyenv/versions/3.10.5/lib/python3.10/site-packages (from requests->diffusers==0.10.2) (3.3)\n",
            "Requirement already satisfied: pyparsing!=3.0.5,>=2.0.2 in /Users/xaviergeerinck/.pyenv/versions/3.10.5/lib/python3.10/site-packages (from packaging>=20.9->huggingface-hub>=0.10.0->diffusers==0.10.2) (3.0.9)\n",
            "Building wheels for collected packages: diffusers\n",
            "  Building editable for diffusers (pyproject.toml) ... \u001b[?25ldone\n",
            "\u001b[?25h  Created wheel for diffusers: filename=diffusers-0.10.2-0.editable-py3-none-any.whl size=14810 sha256=2ffa9a63285b876f6b48ea37dc0ee49b162eb6557d561ab5738021228d5c40ad\n",
            "  Stored in directory: /private/var/folders/b8/4yn1k1x56xj271mlbkt3qlq80000gn/T/pip-ephem-wheel-cache-tzszlnpx/wheels/52/be/12/ae86490dfce53b8823cf8f1a88c27ecbb8addf6d777bf53d83\n",
            "Successfully built diffusers\n",
            "Installing collected packages: diffusers\n",
            "  Attempting uninstall: diffusers\n",
            "    Found existing installation: diffusers 0.10.2\n",
            "    Uninstalling diffusers-0.10.2:\n",
            "      Successfully uninstalled diffusers-0.10.2\n",
            "Successfully installed diffusers-0.10.2\n",
            "\u001b[33mWARNING: You are using pip version 22.0.4; however, version 22.3.1 is available.\n",
            "You should consider upgrading via the '/Users/xaviergeerinck/.pyenv/versions/3.10.5/bin/python3.10 -m pip install --upgrade pip' command.\u001b[0m\u001b[33m\n",
            "\u001b[0m/Users/xaviergeerinck/Projects/PublicProjects/AI/stable-diffusion\n"
          ]
        }
      ],
      "source": [
        "!git clone https://github.com/huggingface/diffusers; cd diffusers; pip install -e ."
      ]
    },
    {
      "cell_type": "markdown",
      "metadata": {},
      "source": [
        "## Install Dreambooth Example"
      ]
    },
    {
      "cell_type": "code",
      "execution_count": 3,
      "metadata": {},
      "outputs": [
        {
          "name": "stdout",
          "output_type": "stream",
          "text": [
            "/Users/xaviergeerinck/Projects/PublicProjects/AI/stable-diffusion\n",
            "Requirement already satisfied: accelerate in /Users/xaviergeerinck/.pyenv/versions/3.10.5/lib/python3.10/site-packages (from -r requirements.txt (line 1)) (0.12.0)\n",
            "Requirement already satisfied: torchvision in /Users/xaviergeerinck/.pyenv/versions/3.10.5/lib/python3.10/site-packages (from -r requirements.txt (line 2)) (0.13.1)\n",
            "Collecting transformers>=4.25.1\n",
            "  Downloading transformers-4.25.1-py3-none-any.whl (5.8 MB)\n",
            "\u001b[2K     \u001b[90m━━━━━━━━━━━━━━━━━━━━━━━━━━━━━━━━━━━━━━━━\u001b[0m \u001b[32m5.8/5.8 MB\u001b[0m \u001b[31m7.1 MB/s\u001b[0m eta \u001b[36m0:00:00\u001b[0m00:01\u001b[0m00:01\u001b[0mm\n",
            "\u001b[?25hCollecting ftfy\n",
            "  Downloading ftfy-6.1.1-py3-none-any.whl (53 kB)\n",
            "\u001b[2K     \u001b[90m━━━━━━━━━━━━━━━━━━━━━━━━━━━━━━━━━━━━━━━━\u001b[0m \u001b[32m53.1/53.1 KB\u001b[0m \u001b[31m5.0 MB/s\u001b[0m eta \u001b[36m0:00:00\u001b[0m\n",
            "\u001b[?25hCollecting tensorboard\n",
            "  Downloading tensorboard-2.11.0-py3-none-any.whl (6.0 MB)\n",
            "\u001b[2K     \u001b[90m━━━━━━━━━━━━━━━━━━━━━━━━━━━━━━━━━━━━━━━━\u001b[0m \u001b[32m6.0/6.0 MB\u001b[0m \u001b[31m7.6 MB/s\u001b[0m eta \u001b[36m0:00:00\u001b[0ma \u001b[36m0:00:01\u001b[0m\n",
            "\u001b[?25hCollecting modelcards\n",
            "  Downloading modelcards-0.1.6-py3-none-any.whl (12 kB)\n",
            "Requirement already satisfied: psutil in /Users/xaviergeerinck/.pyenv/versions/3.10.5/lib/python3.10/site-packages (from accelerate->-r requirements.txt (line 1)) (5.9.2)\n",
            "Requirement already satisfied: pyyaml in /Users/xaviergeerinck/.pyenv/versions/3.10.5/lib/python3.10/site-packages (from accelerate->-r requirements.txt (line 1)) (6.0)\n",
            "Requirement already satisfied: torch>=1.4.0 in /Users/xaviergeerinck/.pyenv/versions/3.10.5/lib/python3.10/site-packages (from accelerate->-r requirements.txt (line 1)) (1.12.1)\n",
            "Requirement already satisfied: numpy>=1.17 in /Users/xaviergeerinck/.pyenv/versions/3.10.5/lib/python3.10/site-packages (from accelerate->-r requirements.txt (line 1)) (1.22.4)\n",
            "Requirement already satisfied: packaging>=20.0 in /Users/xaviergeerinck/.pyenv/versions/3.10.5/lib/python3.10/site-packages (from accelerate->-r requirements.txt (line 1)) (21.3)\n",
            "Requirement already satisfied: pillow!=8.3.*,>=5.3.0 in /Users/xaviergeerinck/.pyenv/versions/3.10.5/lib/python3.10/site-packages (from torchvision->-r requirements.txt (line 2)) (9.2.0)\n",
            "Requirement already satisfied: typing-extensions in /Users/xaviergeerinck/.pyenv/versions/3.10.5/lib/python3.10/site-packages (from torchvision->-r requirements.txt (line 2)) (4.3.0)\n",
            "Requirement already satisfied: requests in /Users/xaviergeerinck/.pyenv/versions/3.10.5/lib/python3.10/site-packages (from torchvision->-r requirements.txt (line 2)) (2.28.1)\n",
            "Requirement already satisfied: huggingface-hub<1.0,>=0.10.0 in /Users/xaviergeerinck/.pyenv/versions/3.10.5/lib/python3.10/site-packages (from transformers>=4.25.1->-r requirements.txt (line 3)) (0.11.1)\n",
            "Collecting tokenizers!=0.11.3,<0.14,>=0.11.1\n",
            "  Downloading tokenizers-0.13.2-cp310-cp310-macosx_12_0_arm64.whl (3.7 MB)\n",
            "\u001b[2K     \u001b[90m━━━━━━━━━━━━━━━━━━━━━━━━━━━━━━━━━━━━━━━━\u001b[0m \u001b[32m3.7/3.7 MB\u001b[0m \u001b[31m9.0 MB/s\u001b[0m eta \u001b[36m0:00:00\u001b[0m00:01\u001b[0m00:01\u001b[0m\n",
            "\u001b[?25hRequirement already satisfied: regex!=2019.12.17 in /Users/xaviergeerinck/.pyenv/versions/3.10.5/lib/python3.10/site-packages (from transformers>=4.25.1->-r requirements.txt (line 3)) (2022.10.31)\n",
            "Requirement already satisfied: filelock in /Users/xaviergeerinck/.pyenv/versions/3.10.5/lib/python3.10/site-packages (from transformers>=4.25.1->-r requirements.txt (line 3)) (3.8.0)\n",
            "Requirement already satisfied: tqdm>=4.27 in /Users/xaviergeerinck/.pyenv/versions/3.10.5/lib/python3.10/site-packages (from transformers>=4.25.1->-r requirements.txt (line 3)) (4.64.0)\n",
            "Requirement already satisfied: wcwidth>=0.2.5 in /Users/xaviergeerinck/.pyenv/versions/3.10.5/lib/python3.10/site-packages (from ftfy->-r requirements.txt (line 4)) (0.2.5)\n",
            "Requirement already satisfied: setuptools>=41.0.0 in /Users/xaviergeerinck/.pyenv/versions/3.10.5/lib/python3.10/site-packages (from tensorboard->-r requirements.txt (line 5)) (58.1.0)\n",
            "Collecting absl-py>=0.4\n",
            "  Downloading absl_py-1.3.0-py3-none-any.whl (124 kB)\n",
            "\u001b[2K     \u001b[90m━━━━━━━━━━━━━━━━━━━━━━━━━━━━━━━━━━━━━━━\u001b[0m \u001b[32m124.6/124.6 KB\u001b[0m \u001b[31m8.3 MB/s\u001b[0m eta \u001b[36m0:00:00\u001b[0m\n",
            "\u001b[?25hCollecting tensorboard-data-server<0.7.0,>=0.6.0\n",
            "  Using cached tensorboard_data_server-0.6.1-py3-none-any.whl (2.4 kB)\n",
            "Collecting wheel>=0.26\n",
            "  Using cached wheel-0.38.4-py3-none-any.whl (36 kB)\n",
            "Collecting google-auth<3,>=1.6.3\n",
            "  Downloading google_auth-2.15.0-py2.py3-none-any.whl (177 kB)\n",
            "\u001b[2K     \u001b[90m━━━━━━━━━━━━━━━━━━━━━━━━━━━━━━━━━━━━━━━\u001b[0m \u001b[32m177.0/177.0 KB\u001b[0m \u001b[31m7.0 MB/s\u001b[0m eta \u001b[36m0:00:00\u001b[0m\n",
            "\u001b[?25hRequirement already satisfied: protobuf<4,>=3.9.2 in /Users/xaviergeerinck/.pyenv/versions/3.10.5/lib/python3.10/site-packages (from tensorboard->-r requirements.txt (line 5)) (3.20.1)\n",
            "Collecting tensorboard-plugin-wit>=1.6.0\n",
            "  Using cached tensorboard_plugin_wit-1.8.1-py3-none-any.whl (781 kB)\n",
            "Requirement already satisfied: grpcio>=1.24.3 in /Users/xaviergeerinck/.pyenv/versions/3.10.5/lib/python3.10/site-packages (from tensorboard->-r requirements.txt (line 5)) (1.48.1)\n",
            "Collecting markdown>=2.6.8\n",
            "  Downloading Markdown-3.4.1-py3-none-any.whl (93 kB)\n",
            "\u001b[2K     \u001b[90m━━━━━━━━━━━━━━━━━━━━━━━━━━━━━━━━━━━━━━━━\u001b[0m \u001b[32m93.3/93.3 KB\u001b[0m \u001b[31m7.1 MB/s\u001b[0m eta \u001b[36m0:00:00\u001b[0m\n",
            "\u001b[?25hCollecting google-auth-oauthlib<0.5,>=0.4.1\n",
            "  Using cached google_auth_oauthlib-0.4.6-py2.py3-none-any.whl (18 kB)\n",
            "Requirement already satisfied: werkzeug>=1.0.1 in /Users/xaviergeerinck/.pyenv/versions/3.10.5/lib/python3.10/site-packages (from tensorboard->-r requirements.txt (line 5)) (2.2.2)\n",
            "Requirement already satisfied: Jinja2 in /Users/xaviergeerinck/.pyenv/versions/3.10.5/lib/python3.10/site-packages (from modelcards->-r requirements.txt (line 6)) (3.1.2)\n",
            "Collecting pyasn1-modules>=0.2.1\n",
            "  Using cached pyasn1_modules-0.2.8-py2.py3-none-any.whl (155 kB)\n",
            "Requirement already satisfied: six>=1.9.0 in /Users/xaviergeerinck/.pyenv/versions/3.10.5/lib/python3.10/site-packages (from google-auth<3,>=1.6.3->tensorboard->-r requirements.txt (line 5)) (1.16.0)\n",
            "Collecting cachetools<6.0,>=2.0.0\n",
            "  Downloading cachetools-5.2.0-py3-none-any.whl (9.3 kB)\n",
            "Collecting rsa<5,>=3.1.4\n",
            "  Downloading rsa-4.9-py3-none-any.whl (34 kB)\n",
            "Collecting requests-oauthlib>=0.7.0\n",
            "  Using cached requests_oauthlib-1.3.1-py2.py3-none-any.whl (23 kB)\n",
            "Requirement already satisfied: pyparsing!=3.0.5,>=2.0.2 in /Users/xaviergeerinck/.pyenv/versions/3.10.5/lib/python3.10/site-packages (from packaging>=20.0->accelerate->-r requirements.txt (line 1)) (3.0.9)\n",
            "Requirement already satisfied: charset-normalizer<3,>=2 in /Users/xaviergeerinck/.pyenv/versions/3.10.5/lib/python3.10/site-packages (from requests->torchvision->-r requirements.txt (line 2)) (2.1.1)\n",
            "Requirement already satisfied: certifi>=2017.4.17 in /Users/xaviergeerinck/.pyenv/versions/3.10.5/lib/python3.10/site-packages (from requests->torchvision->-r requirements.txt (line 2)) (2022.6.15)\n",
            "Requirement already satisfied: idna<4,>=2.5 in /Users/xaviergeerinck/.pyenv/versions/3.10.5/lib/python3.10/site-packages (from requests->torchvision->-r requirements.txt (line 2)) (3.3)\n",
            "Requirement already satisfied: urllib3<1.27,>=1.21.1 in /Users/xaviergeerinck/.pyenv/versions/3.10.5/lib/python3.10/site-packages (from requests->torchvision->-r requirements.txt (line 2)) (1.26.10)\n",
            "Requirement already satisfied: MarkupSafe>=2.1.1 in /Users/xaviergeerinck/.pyenv/versions/3.10.5/lib/python3.10/site-packages (from werkzeug>=1.0.1->tensorboard->-r requirements.txt (line 5)) (2.1.1)\n",
            "Collecting pyasn1<0.5.0,>=0.4.6\n",
            "  Using cached pyasn1-0.4.8-py2.py3-none-any.whl (77 kB)\n",
            "Collecting oauthlib>=3.0.0\n",
            "  Using cached oauthlib-3.2.2-py3-none-any.whl (151 kB)\n",
            "Installing collected packages: tokenizers, tensorboard-plugin-wit, pyasn1, wheel, tensorboard-data-server, rsa, pyasn1-modules, oauthlib, markdown, ftfy, cachetools, absl-py, requests-oauthlib, google-auth, transformers, modelcards, google-auth-oauthlib, tensorboard\n",
            "Successfully installed absl-py-1.3.0 cachetools-5.2.0 ftfy-6.1.1 google-auth-2.15.0 google-auth-oauthlib-0.4.6 markdown-3.4.1 modelcards-0.1.6 oauthlib-3.2.2 pyasn1-0.4.8 pyasn1-modules-0.2.8 requests-oauthlib-1.3.1 rsa-4.9 tensorboard-2.11.0 tensorboard-data-server-0.6.1 tensorboard-plugin-wit-1.8.1 tokenizers-0.13.2 transformers-4.25.1 wheel-0.38.4\n",
            "\u001b[33mWARNING: You are using pip version 22.0.4; however, version 22.3.1 is available.\n",
            "You should consider upgrading via the '/Users/xaviergeerinck/.pyenv/versions/3.10.5/bin/python3.10 -m pip install --upgrade pip' command.\u001b[0m\u001b[33m\n",
            "\u001b[0m\u001b[31mERROR: Could not open requirements file: [Errno 2] No such file or directory: 'requirements.txt'\u001b[0m\u001b[31m\n",
            "\u001b[0m\u001b[33mWARNING: You are using pip version 22.0.4; however, version 22.3.1 is available.\n",
            "You should consider upgrading via the '/Users/xaviergeerinck/.pyenv/versions/3.10.5/bin/python3.10 -m pip install --upgrade pip' command.\u001b[0m\u001b[33m\n",
            "\u001b[0m"
          ]
        }
      ],
      "source": [
        "!cd diffusers/examples/dreambooth && pip install -r requirements.txt"
      ]
    },
    {
      "cell_type": "markdown",
      "metadata": {},
      "source": [
        "## Initialize Accelerate Environment"
      ]
    },
    {
      "cell_type": "code",
      "execution_count": 8,
      "metadata": {},
      "outputs": [
        {
          "name": "stderr",
          "output_type": "stream",
          "text": [
            "/Users/xaviergeerinck/.pyenv/versions/3.10.5/lib/python3.10/site-packages/tqdm/auto.py:22: TqdmWarning: IProgress not found. Please update jupyter and ipywidgets. See https://ipywidgets.readthedocs.io/en/stable/user_install.html\n",
            "  from .autonotebook import tqdm as notebook_tqdm\n"
          ]
        }
      ],
      "source": [
        "from accelerate.utils import write_basic_config\n",
        "write_basic_config()"
      ]
    },
    {
      "cell_type": "markdown",
      "metadata": {},
      "source": [
        "## Configure Dataset"
      ]
    },
    {
      "cell_type": "code",
      "execution_count": null,
      "metadata": {},
      "outputs": [],
      "source": [
        "# Download the following images to ./dataset\n",
        "# https://drive.google.com/drive/folders/1BO_dyz-p65qhBRRMRA4TbZ8qW4rB99JZ"
      ]
    },
    {
      "cell_type": "markdown",
      "metadata": {},
      "source": [
        "## Run Training\n",
        "\n",
        "TODO:\n",
        "* Optimize this for avatar faces\n",
        "* Check https://huggingface.co/blog/dreambooth#fine-tuning-the-text-encoder to see what happens if we fine tune with DDIM\n",
        "  * https://github.com/huggingface/diffusers/tree/main/examples/dreambooth#fine-tune-text-encoder-with-the-unet\n",
        "* Make sure we provide 768x768 images as input\n",
        "* See if huggingface-cli login is required each time?\n",
        "* See what `pip install --upgrade git+https://github.com/huggingface/diffusers.git transformers accelerate scipy`"
      ]
    },
    {
      "cell_type": "code",
      "execution_count": 13,
      "metadata": {},
      "outputs": [
        {
          "name": "stderr",
          "output_type": "stream",
          "text": [
            "The following values were not passed to `accelerate launch` and had defaults used instead:\n",
            "\t`--num_cpu_threads_per_process` was set to `10` to improve out-of-box performance\n",
            "To avoid this warning pass in values for each of the problematic parameters or run `accelerate config`.\n",
            "Downloading: 100%|██████████| 824/824 [00:00<00:00, 277kB/s]\n",
            "Downloading: 100%|██████████| 1.06M/1.06M [00:01<00:00, 976kB/s] \n",
            "Downloading: 100%|██████████| 525k/525k [00:00<00:00, 749kB/s] \n",
            "Downloading: 100%|██████████| 460/460 [00:00<00:00, 226kB/s]\n",
            "Downloading: 100%|██████████| 633/633 [00:00<00:00, 660kB/s]\n",
            "You are using a model of type clip_text_model to instantiate a model of type . This is not supported for all configurations of models and can yield errors.\n"
          ]
        },
        {
          "name": "stdout",
          "output_type": "stream",
          "text": [
            "Error while terminating subprocess (pid=90485): \n"
          ]
        }
      ],
      "source": [
        "%%bash\n",
        "# Note: use resolution 768 when using stable diffusion 2\n",
        "# stabilityai/stable-diffusion-2\n",
        "# !export MODEL_NAME=\"CompVis/stable-diffusion-v1-4\"\n",
        "export MODEL_NAME=\"stabilityai/stable-diffusion-2\"\n",
        "export INSTANCE_DIR=\"../../../dataset\"\n",
        "export OUTPUT_DIR=\"../../../model\"\n",
        "\n",
        "cd diffusers/examples/dreambooth\n",
        "\n",
        "accelerate launch train_dreambooth.py \\\n",
        "  --pretrained_model_name_or_path=$MODEL_NAME  \\\n",
        "  --instance_data_dir=$INSTANCE_DIR \\\n",
        "  --output_dir=$OUTPUT_DIR \\\n",
        "  --instance_prompt=\"a photo of sks dog\" \\\n",
        "  --resolution=768 \\\n",
        "  --train_batch_size=1 \\\n",
        "  --gradient_accumulation_steps=1 \\\n",
        "  --learning_rate=5e-6 \\\n",
        "  --lr_scheduler=\"constant\" \\\n",
        "  --lr_warmup_steps=0 \\\n",
        "  --max_train_steps=400"
      ]
    },
    {
      "cell_type": "code",
      "execution_count": null,
      "metadata": {},
      "outputs": [],
      "source": []
    }
  ],
  "metadata": {
    "accelerator": "GPU",
    "colab": {
      "collapsed_sections": [
        "bbKbx185zqlz",
        "AaLtXBbPleBr"
      ],
      "provenance": []
    },
    "kernelspec": {
      "display_name": "Python 3.10.5 64-bit ('3.10.5')",
      "language": "python",
      "name": "python3"
    },
    "language_info": {
      "codemirror_mode": {
        "name": "ipython",
        "version": 3
      },
      "file_extension": ".py",
      "mimetype": "text/x-python",
      "name": "python",
      "nbconvert_exporter": "python",
      "pygments_lexer": "ipython3",
      "version": "3.10.5"
    },
    "vscode": {
      "interpreter": {
        "hash": "697df247778efc35879884c7a7f4fc66980edc68c45101b74acaf0abd8421b53"
      }
    }
  },
  "nbformat": 4,
  "nbformat_minor": 0
}
